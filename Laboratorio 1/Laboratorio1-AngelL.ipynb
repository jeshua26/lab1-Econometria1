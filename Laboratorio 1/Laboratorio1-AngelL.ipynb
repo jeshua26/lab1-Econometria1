{
 "cells": [
  {
   "cell_type": "markdown",
   "id": "83566f91-10d9-424f-99a3-64a9e692c706",
   "metadata": {},
   "source": [
    "### Ejercicio 1"
   ]
  },
  {
   "cell_type": "markdown",
   "id": "321b32f4-cbd1-4e46-8001-37cdb5eba9cb",
   "metadata": {},
   "source": [
    "Haga un programa en Python que reciba de parámetro un número de segundos y que despliegue en pantalla, las horas, minutos y segundos que representan. Por ejemplo:\n",
    "\n",
    "- Si el número de segundos recibidos fuera: 2743 entonces su programa debería desplegar: Horas: 0, Minutos: 45, Segundos: 43\n",
    "- Si el número de segundos recibidos fuera 5871: Horas: 1, Minutos: 37, Segundos: 51\r\n"
   ]
  },
  {
   "cell_type": "code",
   "execution_count": 1,
   "id": "b0764195-7746-4184-85ef-7a48f33d33f8",
   "metadata": {},
   "outputs": [
    {
     "name": "stdin",
     "output_type": "stream",
     "text": [
      "Ingrese la catidad de segundos: 2743\n"
     ]
    },
    {
     "name": "stdout",
     "output_type": "stream",
     "text": [
      "Horas: 0, Minutos: 45, Segundos: 43\n"
     ]
    }
   ],
   "source": [
    "seg = int(input(\"Ingrese la catidad de segundos:\"))\n",
    "\n",
    "horas = seg//3600\n",
    "minutos = (seg%3600)//60\n",
    "segundos = (seg%3600)%60\n",
    "\n",
    "print(f\"Horas: {horas}, Minutos: {minutos}, Segundos: {segundos}\")"
   ]
  },
  {
   "cell_type": "markdown",
   "id": "e9e44fb1-1e97-4ae3-9219-4ddd9ff925fa",
   "metadata": {},
   "source": [
    "### Ejercicio 2"
   ]
  },
  {
   "cell_type": "markdown",
   "id": "15337fac-1d48-44cf-b899-35ed33ad7840",
   "metadata": {},
   "source": [
    "Haga un programa en Python que la fecha de nacimiento de una persona (puede ingresar por\n",
    "separado cada valor, es decir pedir primero día, luego mes y luego año), despliegue la edad\n",
    "de la persona en años, meses y días. Su resultado puede ser aproximado.\n"
   ]
  },
  {
   "cell_type": "code",
   "execution_count": 66,
   "id": "3a96f6bd-0bed-4423-962d-80e8a43b6963",
   "metadata": {},
   "outputs": [
    {
     "name": "stdin",
     "output_type": "stream",
     "text": [
      "Ingrese el dia de nacimiento: 26\n",
      "Ingrese el mes de nacimiento: 2\n",
      "Ingrese el año de nacimiento: 2000\n"
     ]
    },
    {
     "name": "stdout",
     "output_type": "stream",
     "text": [
      "Tienes 24 años, 8 meses y 14 días\n"
     ]
    }
   ],
   "source": [
    "from datetime import datetime # importamos libreria para reconocer fecha\n",
    "\n",
    "dia = int(input(\"Ingrese el dia de nacimiento:\"))\n",
    "mes = int(input(\"Ingrese el mes de nacimiento:\"))\n",
    "anio = int(input(\"Ingrese el año de nacimiento:\"))\n",
    "\n",
    "años = datetime.now().year - anio\n",
    "meses = datetime.now().month - mes\n",
    "if (meses < 0):\n",
    "    años = años - 1\n",
    "    meses = 12 + meses\n",
    "\n",
    "dias = datetime.now().day - dia\n",
    "\n",
    "if (dias < 0):\n",
    "    meses = meses - 1\n",
    "    dias = 30 + dias # dato aproximado\n",
    "\n",
    "print(f\"Tienes {años} años, {meses} meses y {dias} días\")"
   ]
  },
  {
   "cell_type": "markdown",
   "id": "94bead41-46f6-4558-beb5-a1594d2e2428",
   "metadata": {},
   "source": [
    "### Ejercicio 3"
   ]
  },
  {
   "cell_type": "markdown",
   "id": "f81ba6a9-177f-48d3-9a21-1c392bcdcc8f",
   "metadata": {},
   "source": [
    "Escriba una función en Python que dada una tupla de elementos (números o letras) esta se convierta a un string.\n",
    "\n",
    "- Tomar nota del siguiente ejemplo: Si la entrada fuera: (10, 20, 40, 5, 70)\n",
    "- La salida debería ser: 102040570\r\n"
   ]
  },
  {
   "cell_type": "code",
   "execution_count": 89,
   "id": "dd99cb76-c317-4f35-9248-958d92e55aeb",
   "metadata": {},
   "outputs": [],
   "source": [
    "def ToString(a: tuple):\n",
    "    res = \"\"\n",
    "    for i in a:\n",
    "        res = res + str(i)\n",
    "    return res"
   ]
  },
  {
   "cell_type": "markdown",
   "id": "a8551cf0-c5b8-45f5-9142-528b9af69ce4",
   "metadata": {},
   "source": [
    "Probando la función"
   ]
  },
  {
   "cell_type": "code",
   "execution_count": 93,
   "id": "2eabbab2-e83b-4a80-898a-d7bc739797bc",
   "metadata": {},
   "outputs": [
    {
     "name": "stdout",
     "output_type": "stream",
     "text": [
      "Entrada (10, 20, 40, 5, 70), Salida 102040570\n",
      "Entrada ('a', 'b', 'c', 'd'), Salida abcd\n"
     ]
    }
   ],
   "source": [
    "tupla1 = (10,20,40,5,70)\n",
    "tupla2 = ('a','b','c','d')\n",
    "\n",
    "res1 = ToString(tupla1)\n",
    "res2 = ToString(tupla2)\n",
    "\n",
    "print(f\"Entrada {tupla1}, Salida {res1}\")\n",
    "print(f\"Entrada {tupla2}, Salida {res2}\")"
   ]
  },
  {
   "cell_type": "markdown",
   "id": "b4ba1d8e-0025-49c8-b7c0-b7f6de82d84d",
   "metadata": {},
   "source": [
    "### Ejercicio 4"
   ]
  },
  {
   "cell_type": "markdown",
   "id": "e97382a6-7aa1-441e-8847-9c6e0fd1557e",
   "metadata": {},
   "source": [
    "Cree un programa en Python que dada una lista de tuplas, elimine las tuplas que están vacías. \n",
    "\n",
    "- Tomar nota del siguiente ejemplo: Si la lista fuera: [(), (), (’X’,), (’a’, ’b’), (’a’, ’b’, ’c’), (’d’)]\n",
    "- El resultado debería ser: [(’X’,), (’a’, ’b’), (’a’, ’b’, ’c’), ’d’]"
   ]
  },
  {
   "cell_type": "code",
   "execution_count": 136,
   "id": "e63ded73-a9c9-4a4f-9888-02d3fba67366",
   "metadata": {},
   "outputs": [],
   "source": [
    "def CleanTuples(a: list):\n",
    "    res = []\n",
    "    for i in lista:\n",
    "        if (len(i) > 0):\n",
    "            res.append(i)\n",
    "    return res"
   ]
  },
  {
   "cell_type": "code",
   "execution_count": 142,
   "id": "749cf838-e71e-4b81-8a59-8d9f06af5878",
   "metadata": {},
   "outputs": [
    {
     "name": "stdout",
     "output_type": "stream",
     "text": [
      "Entrada: [(), (), ('X',), ('a', 'b'), ('a', 'b', 'c'), 'd']\n",
      "Salida: [('X',), ('a', 'b'), ('a', 'b', 'c'), 'd']\n"
     ]
    }
   ],
   "source": [
    "lista = [(), (), ('X',), ('a', 'b'), ('a', 'b', 'c'), ('d')]\n",
    "res = CleanTuples(lista)\n",
    "print(f\"Entrada: {lista}\")\n",
    "print(f\"Salida: {res}\")"
   ]
  },
  {
   "cell_type": "markdown",
   "id": "b51c63db-8792-49af-b479-888e4e4dded8",
   "metadata": {},
   "source": [
    "### Ejercicio 5"
   ]
  },
  {
   "cell_type": "markdown",
   "id": "986a4aa1-dff3-4acd-a4e0-dd662c58f65d",
   "metadata": {},
   "source": [
    "Cree una función en Python que dada una lista de tuplas con números enteros, produzca una tupla con el promedio de cada tupla individual, debe usar comprehensions para desarrollar este ejercicio.\n",
    "\n",
    "- Tomar nota del siguiente ejemplo: Si la tupla de entrada fuera: ([10, 10, 10, 12], [30, 45, 56, 45], [81, 80, 39, 32])\n",
    "- El resultado debería ser: (10.5, 44, 58)"
   ]
  },
  {
   "cell_type": "code",
   "execution_count": 168,
   "id": "cd7b3747-2c78-417c-84ef-f87ea5028c26",
   "metadata": {},
   "outputs": [],
   "source": [
    "import numpy as np\n",
    "\n",
    "def MeanTuple(tupla: tuple):\n",
    "    res = [np.mean(list) for list in tupla]\n",
    "    return tuple(res)"
   ]
  },
  {
   "cell_type": "markdown",
   "id": "363eab9b-aaf0-4d2b-857a-65197ea52664",
   "metadata": {},
   "source": [
    "Probando la función"
   ]
  },
  {
   "cell_type": "code",
   "execution_count": 177,
   "id": "f59c3f5d-d498-49e4-9a96-0109e5515ada",
   "metadata": {},
   "outputs": [
    {
     "name": "stdout",
     "output_type": "stream",
     "text": [
      "Entrada: ([10, 10, 10, 12], [30, 45, 56, 45], [81, 80, 39, 32])\n",
      "Salida: (10.5, 44.0, 58.0)\n"
     ]
    }
   ],
   "source": [
    "tupla =  ([10, 10, 10, 12], [30, 45, 56, 45], [81, 80, 39, 32])\n",
    "res = MeanTuple(tupla)\n",
    "\n",
    "print(f\"Entrada: {tupla}\")\n",
    "print(f\"Salida: {res}\")"
   ]
  },
  {
   "cell_type": "markdown",
   "id": "2e015b40-b085-4422-b62d-4cd7442149fb",
   "metadata": {},
   "source": [
    "### Ejercicio 6"
   ]
  },
  {
   "cell_type": "markdown",
   "id": "a0271f2d-aea7-4770-aeda-3237f82e8e31",
   "metadata": {},
   "source": [
    "Escribir un programa que gestione las facturas pendientes de cobro de una empresa. Las facturas se almacenarán en un diccionario donde la llave de cada factura será el número de factura (debe utilizar un numero de 4 dígitos) y el valor el coste de la factura. El programa debe preguntar al usuario si quiere añadir una nueva factura, pagar una existente o terminar. Si desea añadir una nueva factura se preguntará por el número de factura y su coste y se añadirá al diccionario, para confirmar que la factura se ingresó correctamente el programa debe desplegar el diccionario completo. Si se desea pagar una factura se preguntará por el número de factura y se eliminará del diccionario. Después de cada operación el programa debe mostrar en pantalla la cantidad cobrada hasta el momento y la cantidad pendiente de cobro. Puede utilizar otras estructuras de datos como apoyo si lo considera necesario."
   ]
  },
  {
   "cell_type": "code",
   "execution_count": 1,
   "id": "4d892e61-38a9-4942-80d2-8ef72f3d4edf",
   "metadata": {},
   "outputs": [
    {
     "name": "stdout",
     "output_type": "stream",
     "text": [
      "\n",
      "Bienvenido al programa de gestión de facturas\n",
      "\n",
      "1. Añadir factura.\n",
      "2. Pagar factura.\n",
      "3. Terminar programa.\n"
     ]
    },
    {
     "name": "stdin",
     "output_type": "stream",
     "text": [
      "\n",
      "Ingrese el número de operacion que desea ingresar. 1\n",
      "\n",
      "Ingrese el número de la factura 0006\n",
      "Ingrese el monto a pagar 1500\n"
     ]
    },
    {
     "name": "stdout",
     "output_type": "stream",
     "text": [
      " \n",
      "Número|Monto\n",
      "0001  |Q.1000.0\n",
      "0002  |Q.2000.0\n",
      "0003  |Q.3000.0\n",
      "0004  |Q.4000.0\n",
      "0005  |Q.5000.0\n",
      "0006  |Q.1500.0\n",
      "\n",
      "Monto pagado: Q.0\n",
      "Monto pendiente: Q.16500.0\n",
      "\n",
      "Bienvenido al programa de gestión de facturas\n",
      "\n",
      "1. Añadir factura.\n",
      "2. Pagar factura.\n",
      "3. Terminar programa.\n"
     ]
    },
    {
     "name": "stdin",
     "output_type": "stream",
     "text": [
      "\n",
      "Ingrese el número de operacion que desea ingresar. 2\n",
      "\n",
      "Ingrese el número de la factura 0001\n"
     ]
    },
    {
     "name": "stdout",
     "output_type": "stream",
     "text": [
      "\n",
      "Monto pagado: Q.1000.0\n",
      "Monto pendiente: Q.15500.0\n",
      "\n",
      "Bienvenido al programa de gestión de facturas\n",
      "\n",
      "1. Añadir factura.\n",
      "2. Pagar factura.\n",
      "3. Terminar programa.\n"
     ]
    },
    {
     "name": "stdin",
     "output_type": "stream",
     "text": [
      "\n",
      "Ingrese el número de operacion que desea ingresar. 2\n",
      "\n",
      "Ingrese el número de la factura 0002\n"
     ]
    },
    {
     "name": "stdout",
     "output_type": "stream",
     "text": [
      "\n",
      "Monto pagado: Q.3000.0\n",
      "Monto pendiente: Q.13500.0\n",
      "\n",
      "Bienvenido al programa de gestión de facturas\n",
      "\n",
      "1. Añadir factura.\n",
      "2. Pagar factura.\n",
      "3. Terminar programa.\n"
     ]
    },
    {
     "name": "stdin",
     "output_type": "stream",
     "text": [
      "\n",
      "Ingrese el número de operacion que desea ingresar. 3\n"
     ]
    }
   ],
   "source": [
    "import numpy as np\n",
    "\n",
    "facturas = {'0001':1000.00,\n",
    "            '0002':2000.00,\n",
    "            '0003':3000.00,\n",
    "            '0004':4000.00,\n",
    "            '0005':5000.00}\n",
    "def menu():\n",
    "    print(\"\\nBienvenido al programa de gestión de facturas\")\n",
    "    \n",
    "    print(\"\\n1. Añadir factura.\")\n",
    "    print(\"2. Pagar factura.\")\n",
    "    print(\"3. Terminar programa.\")\n",
    "\n",
    "    op = int(input(\"\\nIngrese el número de operacion que desea ingresar.\"))\n",
    "    return op\n",
    "\n",
    "def desplegarFacturas(fac):\n",
    "    print(\" \")\n",
    "    print(\"Número|Monto\")\n",
    "    for i in fac:\n",
    "        print(f\"{i}  |Q.{fac[i]}\")\n",
    "    \n",
    "op = menu()\n",
    "pagado = 0\n",
    "while (op != 3):\n",
    "    match op:\n",
    "        case 1:\n",
    "            num = input(\"\\nIngrese el número de la factura\")\n",
    "            mon = float(input(\"Ingrese el monto a pagar\"))\n",
    "            facturas[num] = mon\n",
    "            desplegarFacturas(facturas)\n",
    "        case 2:\n",
    "            num = input(\"\\nIngrese el número de la factura\")\n",
    "            mon = facturas.pop(num)\n",
    "            pagado = pagado + mon\n",
    "\n",
    "    print(f\"\\nMonto pagado: Q.{pagado}\")\n",
    "    pendiente = np.sum(list(facturas.values()))\n",
    "    print(f\"Monto pendiente: Q.{pendiente}\")\n",
    "    op = menu()"
   ]
  },
  {
   "cell_type": "markdown",
   "id": "12aad288-3550-469c-80b0-fa35fbbeec40",
   "metadata": {},
   "source": [
    "### Ejercicio 7"
   ]
  },
  {
   "cell_type": "markdown",
   "id": "509c38ff-b39f-4722-82e8-d1f7d0590ce5",
   "metadata": {},
   "source": [
    "Haga una función en Python, que cree un set con todas las cartas de una baraja de Pocker utilizando el siguiente formato: Tipo-Numero. Utilice las letras T para tréboles, C para corazones, P para picas y E para espadas. Para los números utilice la numeración del 1 al 13. Por ejemplo E13 - sería Rey de Espadas, P01 sería As de Picas, T05 sería cinco de Tréboles.\n",
    "\n",
    "Posteriormente cree una función que dado el conjunto anterior cree dos sets nuevos de cartas, cada conjunto debe tener una cantidad variable de elementos, puede utilizar números aleatorios enteros para definir la longitud de los conjuntos.\n",
    "\n",
    "Adicionalmente, deberá calcular la probabilidad de la intersección de ambos conjuntos y demuestre si son eventos independientes con la regla del producto.\n",
    "\n",
    "Para concluir, calcule probabilidad de la unión de ambos conjuntos y demuestre que se cumple la regla de la adición.\n"
   ]
  },
  {
   "cell_type": "code",
   "execution_count": 101,
   "id": "99910bb6-6fe9-400a-b89c-8c2275234e3b",
   "metadata": {},
   "outputs": [],
   "source": [
    "import random\n",
    "\n",
    "def cartas():\n",
    "    baraja = []\n",
    "    figura = ['T','C','P','E']\n",
    "    numero = ['01','02','03','04','05','06','07','08','09','10','11','12','13']\n",
    "\n",
    "    for i in figura:\n",
    "        for j in numero:\n",
    "            baraja.append(i + j)\n",
    "            \n",
    "    res = set(baraja)\n",
    "    return res\n",
    "\n",
    "def DosBarajas():\n",
    "    baraja1 = []\n",
    "    baraja2 = []\n",
    "    figura = ['T','C','P','E']\n",
    "    numero = ['01','02','03','04','05','06','07','08','09','10','11','12','13']\n",
    "\n",
    "    for i in figura:\n",
    "        for j in numero:\n",
    "            if (random.randint(0,1)):\n",
    "                baraja1.append(i + j)\n",
    "            if (random.randint(0,1)):\n",
    "                baraja2.append(i + j)\n",
    "    res = set(baraja1), set(baraja2)\n",
    "    return res"
   ]
  },
  {
   "cell_type": "code",
   "execution_count": 97,
   "id": "9b3d5bdd-78f7-4226-914f-99dc0ee7b0c9",
   "metadata": {},
   "outputs": [
    {
     "data": {
      "text/plain": [
       "{'C01',\n",
       " 'C02',\n",
       " 'C03',\n",
       " 'C04',\n",
       " 'C05',\n",
       " 'C06',\n",
       " 'C07',\n",
       " 'C08',\n",
       " 'C09',\n",
       " 'C10',\n",
       " 'C11',\n",
       " 'C12',\n",
       " 'C13',\n",
       " 'E01',\n",
       " 'E02',\n",
       " 'E03',\n",
       " 'E04',\n",
       " 'E05',\n",
       " 'E06',\n",
       " 'E07',\n",
       " 'E08',\n",
       " 'E09',\n",
       " 'E10',\n",
       " 'E11',\n",
       " 'E12',\n",
       " 'E13',\n",
       " 'P01',\n",
       " 'P02',\n",
       " 'P03',\n",
       " 'P04',\n",
       " 'P05',\n",
       " 'P06',\n",
       " 'P07',\n",
       " 'P08',\n",
       " 'P09',\n",
       " 'P10',\n",
       " 'P11',\n",
       " 'P12',\n",
       " 'P13',\n",
       " 'T01',\n",
       " 'T02',\n",
       " 'T03',\n",
       " 'T04',\n",
       " 'T05',\n",
       " 'T06',\n",
       " 'T07',\n",
       " 'T08',\n",
       " 'T09',\n",
       " 'T10',\n",
       " 'T11',\n",
       " 'T12',\n",
       " 'T13'}"
      ]
     },
     "execution_count": 97,
     "metadata": {},
     "output_type": "execute_result"
    }
   ],
   "source": [
    "baraja = cartas()\n",
    "baraja"
   ]
  },
  {
   "cell_type": "code",
   "execution_count": 111,
   "id": "461b0280-8a57-4b4a-851c-6e83bbea8258",
   "metadata": {},
   "outputs": [],
   "source": [
    "barajas = DosBarajas()\n",
    "baraja1 = barajas[0]\n",
    "baraja2 = barajas[1]"
   ]
  },
  {
   "cell_type": "markdown",
   "id": "48c011ad-4543-47de-85cf-68d3ff88c445",
   "metadata": {},
   "source": [
    "Probabilidad de la interseccion"
   ]
  },
  {
   "cell_type": "code",
   "execution_count": 114,
   "id": "4a232fa1-0ecd-475d-9d0a-06f62285a28a",
   "metadata": {},
   "outputs": [
    {
     "data": {
      "text/plain": [
       "0.2692307692307692"
      ]
     },
     "execution_count": 114,
     "metadata": {},
     "output_type": "execute_result"
    }
   ],
   "source": [
    "prob_int = len(baraja1.intersection(baraja2))/52\n",
    "prob_int"
   ]
  },
  {
   "cell_type": "markdown",
   "id": "155cc6f5-ecb0-46fb-8650-89b99272d926",
   "metadata": {},
   "source": [
    "Prueba de independencia de lo eventos"
   ]
  },
  {
   "cell_type": "code",
   "execution_count": 120,
   "id": "cac60a44-1e22-4cc1-908c-52dd2ec76310",
   "metadata": {},
   "outputs": [
    {
     "data": {
      "text/plain": [
       "0.2681213017751479"
      ]
     },
     "execution_count": 120,
     "metadata": {},
     "output_type": "execute_result"
    }
   ],
   "source": [
    "prob_mult = len(baraja1)/52 * len(baraja2)/52\n",
    "prob_mult"
   ]
  },
  {
   "cell_type": "code",
   "execution_count": 124,
   "id": "4a814771-01db-4dc9-9726-33137f117978",
   "metadata": {},
   "outputs": [
    {
     "data": {
      "text/plain": [
       "False"
      ]
     },
     "execution_count": 124,
     "metadata": {},
     "output_type": "execute_result"
    }
   ],
   "source": [
    "prob_int == prob_mult # si es verdadero son independientes sino no lo son"
   ]
  },
  {
   "cell_type": "markdown",
   "id": "02f4098b-3a52-4e80-93bf-f24cb6a9ff53",
   "metadata": {},
   "source": [
    "Probabilidad de la union"
   ]
  },
  {
   "cell_type": "code",
   "execution_count": 126,
   "id": "f21684ae-adf8-4dae-b6f4-2c63e6282657",
   "metadata": {},
   "outputs": [
    {
     "data": {
      "text/plain": [
       "0.7692307692307693"
      ]
     },
     "execution_count": 126,
     "metadata": {},
     "output_type": "execute_result"
    }
   ],
   "source": [
    "prob_uni = len(baraja1.union(baraja2))/52\n",
    "prob_uni"
   ]
  },
  {
   "cell_type": "markdown",
   "id": "2f9cfea2-f4fb-443c-8b1c-97a17138e989",
   "metadata": {},
   "source": [
    "Prueba de la adicion"
   ]
  },
  {
   "cell_type": "code",
   "execution_count": 133,
   "id": "e319a1f0-c5cc-4e88-91b9-50ddf306651b",
   "metadata": {},
   "outputs": [
    {
     "data": {
      "text/plain": [
       "0.7692307692307694"
      ]
     },
     "execution_count": 133,
     "metadata": {},
     "output_type": "execute_result"
    }
   ],
   "source": [
    "prob_add = len(baraja1)/52 + len(baraja2)/52 - prob_int\n",
    "prob_add"
   ]
  },
  {
   "cell_type": "code",
   "execution_count": 137,
   "id": "f0c04fb4-7483-46e1-ba93-b89121cf0c14",
   "metadata": {},
   "outputs": [
    {
     "data": {
      "text/plain": [
       "-1.1102230246251565e-16"
      ]
     },
     "execution_count": 137,
     "metadata": {},
     "output_type": "execute_result"
    }
   ],
   "source": [
    "prob_uni - prob_add"
   ]
  },
  {
   "cell_type": "code",
   "execution_count": null,
   "id": "6afd0e72-153b-4471-8372-3535417200f7",
   "metadata": {},
   "outputs": [],
   "source": []
  }
 ],
 "metadata": {
  "kernelspec": {
   "display_name": "Python 3 (ipykernel)",
   "language": "python",
   "name": "python3"
  },
  "language_info": {
   "codemirror_mode": {
    "name": "ipython",
    "version": 3
   },
   "file_extension": ".py",
   "mimetype": "text/x-python",
   "name": "python",
   "nbconvert_exporter": "python",
   "pygments_lexer": "ipython3",
   "version": "3.12.4"
  }
 },
 "nbformat": 4,
 "nbformat_minor": 5
}
